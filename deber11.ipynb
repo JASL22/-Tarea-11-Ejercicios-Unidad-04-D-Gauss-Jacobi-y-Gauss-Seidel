{
 "cells": [
  {
   "cell_type": "markdown",
   "id": "34b3569d",
   "metadata": {},
   "source": [
    "# Escuela Politécnica Nacional\n",
    "## Métodos Numéricos\n",
    "## [Tarea 11] Ejercicios Unidad 04-D | Gauss-Jacobi y Gauss-Seidel\n",
    "## Jhonn Saeteros"
   ]
  }
 ],
 "metadata": {
  "language_info": {
   "name": "python"
  }
 },
 "nbformat": 4,
 "nbformat_minor": 5
}
